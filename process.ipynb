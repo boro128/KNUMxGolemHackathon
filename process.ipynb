{
 "cells": [
  {
   "cell_type": "code",
   "execution_count": 1,
   "metadata": {},
   "outputs": [],
   "source": [
    "import torch\n",
    "import torch.nn as nn\n",
    "\n",
    "import pandas as pd\n",
    "import json\n",
    "\n",
    "from torchvision import models, transforms\n",
    "\n",
    "from magic_dataset import MagicDataset"
   ]
  },
  {
   "cell_type": "code",
   "execution_count": 2,
   "metadata": {},
   "outputs": [],
   "source": [
    "device = torch.device(\"cuda\" if torch.cuda.is_available() else \"cpu\")"
   ]
  },
  {
   "cell_type": "markdown",
   "metadata": {},
   "source": [
    "### Specify paths"
   ]
  },
  {
   "cell_type": "code",
   "execution_count": 3,
   "metadata": {},
   "outputs": [],
   "source": [
    "part=1"
   ]
  },
  {
   "cell_type": "code",
   "execution_count": 4,
   "metadata": {},
   "outputs": [],
   "source": [
    "path_to_json_test = r'data\\images_part1_test_public.json'\n",
    "path_to_bbox_dir_test = r'data\\images_part1_test_bboxes\\images'\n",
    "path_to_bbox_csv_test = r'data\\images_part1_test_bboxes\\bboxes_data.csv'"
   ]
  },
  {
   "cell_type": "code",
   "execution_count": 5,
   "metadata": {},
   "outputs": [],
   "source": [
    "path_to_json_train = r'data\\reference_images_part1.json'\n",
    "path_to_bbox_dir_train = r'data\\reference_images_part1_bboxes\\images'\n",
    "path_to_bbox_csv_train = r'data\\reference_images_part1_bboxes\\bboxes_data.csv'"
   ]
  },
  {
   "cell_type": "code",
   "execution_count": 6,
   "metadata": {},
   "outputs": [],
   "source": [
    "with open(path_to_json_test, 'r') as f:\n",
    "    json_data_test = json.load(f)\n",
    "\n",
    "with open(path_to_json_train, 'r') as f:\n",
    "    json_data_train = json.load(f)\n",
    "\n",
    "bbox_df_test = pd.read_csv(path_to_bbox_csv_test)\n",
    "bbox_df_train = pd.read_csv(path_to_bbox_csv_train)"
   ]
  },
  {
   "cell_type": "code",
   "execution_count": 7,
   "metadata": {},
   "outputs": [
    {
     "data": {
      "text/html": [
       "<div>\n",
       "<style scoped>\n",
       "    .dataframe tbody tr th:only-of-type {\n",
       "        vertical-align: middle;\n",
       "    }\n",
       "\n",
       "    .dataframe tbody tr th {\n",
       "        vertical-align: top;\n",
       "    }\n",
       "\n",
       "    .dataframe thead th {\n",
       "        text-align: right;\n",
       "    }\n",
       "</style>\n",
       "<table border=\"1\" class=\"dataframe\">\n",
       "  <thead>\n",
       "    <tr style=\"text-align: right;\">\n",
       "      <th></th>\n",
       "      <th>id</th>\n",
       "      <th>image_id</th>\n",
       "      <th>category_id</th>\n",
       "      <th>area</th>\n",
       "      <th>bbox</th>\n",
       "      <th>iscrowd</th>\n",
       "      <th>occluded</th>\n",
       "      <th>attributes</th>\n",
       "      <th>group_id</th>\n",
       "    </tr>\n",
       "  </thead>\n",
       "  <tbody>\n",
       "    <tr>\n",
       "      <th>0</th>\n",
       "      <td>2987</td>\n",
       "      <td>156</td>\n",
       "      <td>None</td>\n",
       "      <td>8859</td>\n",
       "      <td>[282.21, 253.88, 59.6, 169.87]</td>\n",
       "      <td>0</td>\n",
       "      <td>False</td>\n",
       "      <td>{'occluded': ['Not-Occluded']}</td>\n",
       "      <td>0</td>\n",
       "    </tr>\n",
       "    <tr>\n",
       "      <th>1</th>\n",
       "      <td>2988</td>\n",
       "      <td>156</td>\n",
       "      <td>None</td>\n",
       "      <td>2175</td>\n",
       "      <td>[347.91, 229.06, 93.37, 69.38]</td>\n",
       "      <td>0</td>\n",
       "      <td>False</td>\n",
       "      <td>{'occluded': ['Not-Occluded']}</td>\n",
       "      <td>0</td>\n",
       "    </tr>\n",
       "    <tr>\n",
       "      <th>2</th>\n",
       "      <td>2989</td>\n",
       "      <td>156</td>\n",
       "      <td>None</td>\n",
       "      <td>2109</td>\n",
       "      <td>[340.34, 265.88, 30.12, 73.62]</td>\n",
       "      <td>0</td>\n",
       "      <td>False</td>\n",
       "      <td>{'occluded': ['Not-Occluded']}</td>\n",
       "      <td>0</td>\n",
       "    </tr>\n",
       "    <tr>\n",
       "      <th>3</th>\n",
       "      <td>2990</td>\n",
       "      <td>156</td>\n",
       "      <td>None</td>\n",
       "      <td>2135</td>\n",
       "      <td>[344.22, 203.12, 98.6, 30]</td>\n",
       "      <td>0</td>\n",
       "      <td>False</td>\n",
       "      <td>{'occluded': ['Not-Occluded']}</td>\n",
       "      <td>0</td>\n",
       "    </tr>\n",
       "    <tr>\n",
       "      <th>4</th>\n",
       "      <td>2991</td>\n",
       "      <td>157</td>\n",
       "      <td>None</td>\n",
       "      <td>8017</td>\n",
       "      <td>[381.45, 241.5, 106.94, 162.25]</td>\n",
       "      <td>0</td>\n",
       "      <td>True</td>\n",
       "      <td>{'occluded': ['Occluded']}</td>\n",
       "      <td>0</td>\n",
       "    </tr>\n",
       "    <tr>\n",
       "      <th>...</th>\n",
       "      <td>...</td>\n",
       "      <td>...</td>\n",
       "      <td>...</td>\n",
       "      <td>...</td>\n",
       "      <td>...</td>\n",
       "      <td>...</td>\n",
       "      <td>...</td>\n",
       "      <td>...</td>\n",
       "      <td>...</td>\n",
       "    </tr>\n",
       "    <tr>\n",
       "      <th>3328</th>\n",
       "      <td>12444</td>\n",
       "      <td>725</td>\n",
       "      <td>None</td>\n",
       "      <td>1313</td>\n",
       "      <td>[387.41, 308.9, 62.09, 75.35]</td>\n",
       "      <td>0</td>\n",
       "      <td>True</td>\n",
       "      <td>{'occluded': ['Occluded']}</td>\n",
       "      <td>0</td>\n",
       "    </tr>\n",
       "    <tr>\n",
       "      <th>3329</th>\n",
       "      <td>12445</td>\n",
       "      <td>725</td>\n",
       "      <td>None</td>\n",
       "      <td>556</td>\n",
       "      <td>[420.85, 409.12, 37.64, 23.79]</td>\n",
       "      <td>0</td>\n",
       "      <td>True</td>\n",
       "      <td>{'occluded': ['Occluded']}</td>\n",
       "      <td>0</td>\n",
       "    </tr>\n",
       "    <tr>\n",
       "      <th>3330</th>\n",
       "      <td>12446</td>\n",
       "      <td>725</td>\n",
       "      <td>None</td>\n",
       "      <td>2461</td>\n",
       "      <td>[245.93, 177.75, 46.24, 105]</td>\n",
       "      <td>0</td>\n",
       "      <td>True</td>\n",
       "      <td>{'occluded': ['Occluded']}</td>\n",
       "      <td>0</td>\n",
       "    </tr>\n",
       "    <tr>\n",
       "      <th>3331</th>\n",
       "      <td>12447</td>\n",
       "      <td>725</td>\n",
       "      <td>None</td>\n",
       "      <td>2650</td>\n",
       "      <td>[422.02, 316.5, 79.69, 66.56]</td>\n",
       "      <td>0</td>\n",
       "      <td>True</td>\n",
       "      <td>{'occluded': ['Occluded']}</td>\n",
       "      <td>0</td>\n",
       "    </tr>\n",
       "    <tr>\n",
       "      <th>3332</th>\n",
       "      <td>12448</td>\n",
       "      <td>725</td>\n",
       "      <td>None</td>\n",
       "      <td>3260</td>\n",
       "      <td>[480.9, 307, 45.03, 124.5]</td>\n",
       "      <td>0</td>\n",
       "      <td>True</td>\n",
       "      <td>{'occluded': ['Occluded']}</td>\n",
       "      <td>0</td>\n",
       "    </tr>\n",
       "  </tbody>\n",
       "</table>\n",
       "<p>3333 rows × 9 columns</p>\n",
       "</div>"
      ],
      "text/plain": [
       "         id  image_id category_id  area                             bbox  \\\n",
       "0      2987       156        None  8859   [282.21, 253.88, 59.6, 169.87]   \n",
       "1      2988       156        None  2175   [347.91, 229.06, 93.37, 69.38]   \n",
       "2      2989       156        None  2109   [340.34, 265.88, 30.12, 73.62]   \n",
       "3      2990       156        None  2135       [344.22, 203.12, 98.6, 30]   \n",
       "4      2991       157        None  8017  [381.45, 241.5, 106.94, 162.25]   \n",
       "...     ...       ...         ...   ...                              ...   \n",
       "3328  12444       725        None  1313    [387.41, 308.9, 62.09, 75.35]   \n",
       "3329  12445       725        None   556   [420.85, 409.12, 37.64, 23.79]   \n",
       "3330  12446       725        None  2461     [245.93, 177.75, 46.24, 105]   \n",
       "3331  12447       725        None  2650    [422.02, 316.5, 79.69, 66.56]   \n",
       "3332  12448       725        None  3260       [480.9, 307, 45.03, 124.5]   \n",
       "\n",
       "      iscrowd  occluded                      attributes  group_id  \n",
       "0           0     False  {'occluded': ['Not-Occluded']}         0  \n",
       "1           0     False  {'occluded': ['Not-Occluded']}         0  \n",
       "2           0     False  {'occluded': ['Not-Occluded']}         0  \n",
       "3           0     False  {'occluded': ['Not-Occluded']}         0  \n",
       "4           0      True      {'occluded': ['Occluded']}         0  \n",
       "...       ...       ...                             ...       ...  \n",
       "3328        0      True      {'occluded': ['Occluded']}         0  \n",
       "3329        0      True      {'occluded': ['Occluded']}         0  \n",
       "3330        0      True      {'occluded': ['Occluded']}         0  \n",
       "3331        0      True      {'occluded': ['Occluded']}         0  \n",
       "3332        0      True      {'occluded': ['Occluded']}         0  \n",
       "\n",
       "[3333 rows x 9 columns]"
      ]
     },
     "execution_count": 7,
     "metadata": {},
     "output_type": "execute_result"
    }
   ],
   "source": [
    "annotations_test = pd.DataFrame(json_data_test['annotations'])\n",
    "annotations_train = pd.DataFrame(json_data_train['annotations'])\n",
    "annotations_test"
   ]
  },
  {
   "cell_type": "markdown",
   "metadata": {},
   "source": [
    "### Prepare transformations"
   ]
  },
  {
   "cell_type": "code",
   "execution_count": 8,
   "metadata": {},
   "outputs": [],
   "source": [
    "transformations = transforms.Compose([\n",
    "    transforms.Resize((224, 224)),\n",
    "    transforms.ToTensor(),\n",
    "    transforms.Normalize([0.485, 0.456, 0.406], [0.229, 0.224, 0.225])\n",
    "])"
   ]
  },
  {
   "cell_type": "markdown",
   "metadata": {},
   "source": [
    "### Prepare datasets and dataloaders"
   ]
  },
  {
   "cell_type": "code",
   "execution_count": 9,
   "metadata": {},
   "outputs": [],
   "source": [
    "test_data = MagicDataset(img_dir=path_to_bbox_dir_test, labels_file=path_to_bbox_csv_test, transform=transformations)\n",
    "train_data = MagicDataset(img_dir=path_to_bbox_dir_train, labels_file=path_to_bbox_csv_train, transform=transformations)\n",
    "BATCH_SIZE = 256\n",
    "test_loader = torch.utils.data.DataLoader(test_data, batch_size=BATCH_SIZE, shuffle=False)\n",
    "train_loader = torch.utils.data.DataLoader(train_data, batch_size=BATCH_SIZE, shuffle=False)"
   ]
  },
  {
   "cell_type": "markdown",
   "metadata": {},
   "source": [
    "### Prepare model and load weigths"
   ]
  },
  {
   "cell_type": "code",
   "execution_count": 10,
   "metadata": {},
   "outputs": [],
   "source": [
    "EMBEDDING_SIZE = 256\n",
    "\n",
    "model = models.resnet50(pretrained=True)\n",
    "\n",
    "num_ftrs = model.fc.in_features\n",
    "model.avgpool = nn.AdaptiveAvgPool2d(output_size=1)\n",
    "\n",
    "model.fc = nn.Sequential(\n",
    "    nn.Linear(num_ftrs, 512),\n",
    "    nn.Linear(512, EMBEDDING_SIZE),\n",
    ")\n",
    "\n",
    "model = model.to(device)"
   ]
  },
  {
   "cell_type": "code",
   "execution_count": 11,
   "metadata": {},
   "outputs": [
    {
     "data": {
      "text/plain": [
       "<All keys matched successfully>"
      ]
     },
     "execution_count": 11,
     "metadata": {},
     "output_type": "execute_result"
    }
   ],
   "source": [
    "model.load_state_dict(torch.load(r'model.pth', map_location=torch.device(device)))"
   ]
  },
  {
   "cell_type": "markdown",
   "metadata": {},
   "source": [
    "### Calculate embeddings of images from train set"
   ]
  },
  {
   "cell_type": "code",
   "execution_count": 13,
   "metadata": {},
   "outputs": [],
   "source": [
    "model.eval()\n",
    "\n",
    "embeddings = torch.zeros((0, EMBEDDING_SIZE))\n",
    "labels = torch.zeros((0))\n",
    "\n",
    "with torch.no_grad():\n",
    "    for ins, lbs in train_loader:\n",
    "        ins = ins.to(device)\n",
    "        lbs = lbs.to(device)\n",
    "        \n",
    "        labels = torch.cat([labels.cpu(), lbs.cpu()])\n",
    "        embeddings = torch.cat([embeddings.cpu(), model(ins).cpu()], dim=0)"
   ]
  },
  {
   "cell_type": "markdown",
   "metadata": {},
   "source": [
    "### Train KNN"
   ]
  },
  {
   "cell_type": "code",
   "execution_count": null,
   "metadata": {},
   "outputs": [
    {
     "data": {
      "text/plain": [
       "KNeighborsClassifier(metric='cosine', n_neighbors=1)"
      ]
     },
     "execution_count": 20,
     "metadata": {},
     "output_type": "execute_result"
    }
   ],
   "source": [
    "from sklearn.neighbors import KNeighborsClassifier\n",
    "\n",
    "knn = KNeighborsClassifier(n_neighbors=1, metric='cosine')\n",
    "knn.fit(embeddings.numpy(), labels.numpy())"
   ]
  },
  {
   "cell_type": "markdown",
   "metadata": {},
   "source": [
    "### Calculate embeddings of new images"
   ]
  },
  {
   "cell_type": "code",
   "execution_count": null,
   "metadata": {},
   "outputs": [],
   "source": [
    "embeddings_test = torch.zeros((0, EMBEDDING_SIZE))\n",
    "\n",
    "with torch.no_grad():\n",
    "    for ins, _ in test_loader:\n",
    "        ins = ins.to(device)\n",
    "        \n",
    "        embeddings_test = torch.cat([embeddings_test.cpu(), model(ins).cpu()], dim=0)"
   ]
  },
  {
   "cell_type": "markdown",
   "metadata": {},
   "source": [
    "### Make predictions"
   ]
  },
  {
   "cell_type": "code",
   "execution_count": null,
   "metadata": {},
   "outputs": [],
   "source": [
    "preds = knn.predict(embeddings_test.numpy())"
   ]
  },
  {
   "cell_type": "markdown",
   "metadata": {},
   "source": [
    "### Save predictions to json"
   ]
  },
  {
   "cell_type": "code",
   "execution_count": null,
   "metadata": {},
   "outputs": [
    {
     "data": {
      "text/html": [
       "<div>\n",
       "<style scoped>\n",
       "    .dataframe tbody tr th:only-of-type {\n",
       "        vertical-align: middle;\n",
       "    }\n",
       "\n",
       "    .dataframe tbody tr th {\n",
       "        vertical-align: top;\n",
       "    }\n",
       "\n",
       "    .dataframe thead th {\n",
       "        text-align: right;\n",
       "    }\n",
       "</style>\n",
       "<table border=\"1\" class=\"dataframe\">\n",
       "  <thead>\n",
       "    <tr style=\"text-align: right;\">\n",
       "      <th></th>\n",
       "      <th>id</th>\n",
       "      <th>image_id</th>\n",
       "      <th>category_id</th>\n",
       "      <th>area</th>\n",
       "      <th>bbox</th>\n",
       "      <th>iscrowd</th>\n",
       "      <th>occluded</th>\n",
       "      <th>attributes</th>\n",
       "      <th>group_id</th>\n",
       "    </tr>\n",
       "  </thead>\n",
       "  <tbody>\n",
       "    <tr>\n",
       "      <th>0</th>\n",
       "      <td>2987</td>\n",
       "      <td>156</td>\n",
       "      <td>2</td>\n",
       "      <td>8859</td>\n",
       "      <td>[282.21, 253.88, 59.6, 169.87]</td>\n",
       "      <td>0</td>\n",
       "      <td>False</td>\n",
       "      <td>{'occluded': ['Not-Occluded']}</td>\n",
       "      <td>0</td>\n",
       "    </tr>\n",
       "    <tr>\n",
       "      <th>1</th>\n",
       "      <td>2988</td>\n",
       "      <td>156</td>\n",
       "      <td>11</td>\n",
       "      <td>2175</td>\n",
       "      <td>[347.91, 229.06, 93.37, 69.38]</td>\n",
       "      <td>0</td>\n",
       "      <td>False</td>\n",
       "      <td>{'occluded': ['Not-Occluded']}</td>\n",
       "      <td>0</td>\n",
       "    </tr>\n",
       "    <tr>\n",
       "      <th>2</th>\n",
       "      <td>2989</td>\n",
       "      <td>156</td>\n",
       "      <td>10</td>\n",
       "      <td>2109</td>\n",
       "      <td>[340.34, 265.88, 30.12, 73.62]</td>\n",
       "      <td>0</td>\n",
       "      <td>False</td>\n",
       "      <td>{'occluded': ['Not-Occluded']}</td>\n",
       "      <td>0</td>\n",
       "    </tr>\n",
       "    <tr>\n",
       "      <th>3</th>\n",
       "      <td>2990</td>\n",
       "      <td>156</td>\n",
       "      <td>11</td>\n",
       "      <td>2135</td>\n",
       "      <td>[344.22, 203.12, 98.6, 30]</td>\n",
       "      <td>0</td>\n",
       "      <td>False</td>\n",
       "      <td>{'occluded': ['Not-Occluded']}</td>\n",
       "      <td>0</td>\n",
       "    </tr>\n",
       "    <tr>\n",
       "      <th>4</th>\n",
       "      <td>2991</td>\n",
       "      <td>157</td>\n",
       "      <td>2</td>\n",
       "      <td>8017</td>\n",
       "      <td>[381.45, 241.5, 106.94, 162.25]</td>\n",
       "      <td>0</td>\n",
       "      <td>True</td>\n",
       "      <td>{'occluded': ['Occluded']}</td>\n",
       "      <td>0</td>\n",
       "    </tr>\n",
       "    <tr>\n",
       "      <th>...</th>\n",
       "      <td>...</td>\n",
       "      <td>...</td>\n",
       "      <td>...</td>\n",
       "      <td>...</td>\n",
       "      <td>...</td>\n",
       "      <td>...</td>\n",
       "      <td>...</td>\n",
       "      <td>...</td>\n",
       "      <td>...</td>\n",
       "    </tr>\n",
       "    <tr>\n",
       "      <th>3328</th>\n",
       "      <td>12444</td>\n",
       "      <td>725</td>\n",
       "      <td>3</td>\n",
       "      <td>1313</td>\n",
       "      <td>[387.41, 308.9, 62.09, 75.35]</td>\n",
       "      <td>0</td>\n",
       "      <td>True</td>\n",
       "      <td>{'occluded': ['Occluded']}</td>\n",
       "      <td>0</td>\n",
       "    </tr>\n",
       "    <tr>\n",
       "      <th>3329</th>\n",
       "      <td>12445</td>\n",
       "      <td>725</td>\n",
       "      <td>11</td>\n",
       "      <td>556</td>\n",
       "      <td>[420.85, 409.12, 37.64, 23.79]</td>\n",
       "      <td>0</td>\n",
       "      <td>True</td>\n",
       "      <td>{'occluded': ['Occluded']}</td>\n",
       "      <td>0</td>\n",
       "    </tr>\n",
       "    <tr>\n",
       "      <th>3330</th>\n",
       "      <td>12446</td>\n",
       "      <td>725</td>\n",
       "      <td>11</td>\n",
       "      <td>2461</td>\n",
       "      <td>[245.93, 177.75, 46.24, 105]</td>\n",
       "      <td>0</td>\n",
       "      <td>True</td>\n",
       "      <td>{'occluded': ['Occluded']}</td>\n",
       "      <td>0</td>\n",
       "    </tr>\n",
       "    <tr>\n",
       "      <th>3331</th>\n",
       "      <td>12447</td>\n",
       "      <td>725</td>\n",
       "      <td>11</td>\n",
       "      <td>2650</td>\n",
       "      <td>[422.02, 316.5, 79.69, 66.56]</td>\n",
       "      <td>0</td>\n",
       "      <td>True</td>\n",
       "      <td>{'occluded': ['Occluded']}</td>\n",
       "      <td>0</td>\n",
       "    </tr>\n",
       "    <tr>\n",
       "      <th>3332</th>\n",
       "      <td>12448</td>\n",
       "      <td>725</td>\n",
       "      <td>2</td>\n",
       "      <td>3260</td>\n",
       "      <td>[480.9, 307, 45.03, 124.5]</td>\n",
       "      <td>0</td>\n",
       "      <td>True</td>\n",
       "      <td>{'occluded': ['Occluded']}</td>\n",
       "      <td>0</td>\n",
       "    </tr>\n",
       "  </tbody>\n",
       "</table>\n",
       "<p>3333 rows × 9 columns</p>\n",
       "</div>"
      ],
      "text/plain": [
       "         id  image_id  category_id  area                             bbox  \\\n",
       "0      2987       156            2  8859   [282.21, 253.88, 59.6, 169.87]   \n",
       "1      2988       156           11  2175   [347.91, 229.06, 93.37, 69.38]   \n",
       "2      2989       156           10  2109   [340.34, 265.88, 30.12, 73.62]   \n",
       "3      2990       156           11  2135       [344.22, 203.12, 98.6, 30]   \n",
       "4      2991       157            2  8017  [381.45, 241.5, 106.94, 162.25]   \n",
       "...     ...       ...          ...   ...                              ...   \n",
       "3328  12444       725            3  1313    [387.41, 308.9, 62.09, 75.35]   \n",
       "3329  12445       725           11   556   [420.85, 409.12, 37.64, 23.79]   \n",
       "3330  12446       725           11  2461     [245.93, 177.75, 46.24, 105]   \n",
       "3331  12447       725           11  2650    [422.02, 316.5, 79.69, 66.56]   \n",
       "3332  12448       725            2  3260       [480.9, 307, 45.03, 124.5]   \n",
       "\n",
       "      iscrowd  occluded                      attributes  group_id  \n",
       "0           0     False  {'occluded': ['Not-Occluded']}         0  \n",
       "1           0     False  {'occluded': ['Not-Occluded']}         0  \n",
       "2           0     False  {'occluded': ['Not-Occluded']}         0  \n",
       "3           0     False  {'occluded': ['Not-Occluded']}         0  \n",
       "4           0      True      {'occluded': ['Occluded']}         0  \n",
       "...       ...       ...                             ...       ...  \n",
       "3328        0      True      {'occluded': ['Occluded']}         0  \n",
       "3329        0      True      {'occluded': ['Occluded']}         0  \n",
       "3330        0      True      {'occluded': ['Occluded']}         0  \n",
       "3331        0      True      {'occluded': ['Occluded']}         0  \n",
       "3332        0      True      {'occluded': ['Occluded']}         0  \n",
       "\n",
       "[3333 rows x 9 columns]"
      ]
     },
     "execution_count": 26,
     "metadata": {},
     "output_type": "execute_result"
    }
   ],
   "source": [
    "annotations_test['category_id'] = preds.astype(int)\n",
    "annotations_test"
   ]
  },
  {
   "cell_type": "code",
   "execution_count": null,
   "metadata": {},
   "outputs": [],
   "source": [
    "json_data_test['annotations'] = annotations_test.to_dict(orient='records')\n",
    "\n",
    "json_object = json.dumps(json_data_test, indent=4)\n",
    "\n",
    "with open(f\"images_part{part}_test_public_Czarny_Lotos.json\", \"w\") as outfile:\n",
    "    outfile.write(json_object)"
   ]
  }
 ],
 "metadata": {
  "interpreter": {
   "hash": "769d6ced8dc8fbc67d690c96c028476c7061cd49f513ac17f01c9589fe303563"
  },
  "kernelspec": {
   "display_name": "Python 3.9.12 ('KNUMxGolem')",
   "language": "python",
   "name": "python3"
  },
  "language_info": {
   "codemirror_mode": {
    "name": "ipython",
    "version": 3
   },
   "file_extension": ".py",
   "mimetype": "text/x-python",
   "name": "python",
   "nbconvert_exporter": "python",
   "pygments_lexer": "ipython3",
   "version": "3.9.12"
  },
  "orig_nbformat": 4
 },
 "nbformat": 4,
 "nbformat_minor": 2
}
