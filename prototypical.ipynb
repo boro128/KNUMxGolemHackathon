{
  "cells": [
    {
      "cell_type": "code",
      "execution_count": 1,
      "metadata": {
        "id": "7WddU3iXHtpt"
      },
      "outputs": [],
      "source": [
        "import torch\n",
        "import torch.nn as nn\n",
        "import torchvision\n",
        "import torch.nn.functional as F\n",
        "import torch.optim as optim\n",
        "from torch.autograd import Variable\n",
        "from torchvision import datasets, models, transforms\n",
        "\n",
        "import numpy as np\n",
        "import pandas as pd\n",
        "import matplotlib.pyplot as plt\n",
        "import seaborn as sns\n",
        "\n",
        "import os"
      ]
    },
    {
      "cell_type": "code",
      "execution_count": 2,
      "metadata": {
        "colab": {
          "base_uri": "https://localhost:8080/"
        },
        "id": "vifoDz-7Htp6",
        "outputId": "04c6bc12-6ff5-4a42-e92b-fdf702d5364f"
      },
      "outputs": [
        {
          "output_type": "stream",
          "name": "stdout",
          "text": [
            "NVIDIA-SMI has failed because it couldn't communicate with the NVIDIA driver. Make sure that the latest NVIDIA driver is installed and running.\n",
            "\n",
            "Using cpu device\n"
          ]
        }
      ],
      "source": [
        "!nvidia-smi\n",
        "\n",
        "device = torch.device(\"cuda\" if torch.cuda.is_available() else \"cpu\")\n",
        "print(f\"Using {device} device\")"
      ]
    },
    {
      "cell_type": "markdown",
      "source": [
        "# Prepare data"
      ],
      "metadata": {
        "id": "8VLn48UbKnBo"
      }
    },
    {
      "cell_type": "code",
      "source": [
        "from google.colab import drive\n",
        "drive.mount('/content/drive')"
      ],
      "metadata": {
        "colab": {
          "base_uri": "https://localhost:8080/"
        },
        "id": "4fgxNraWHx8I",
        "outputId": "c31a468d-34dc-4b16-fc2b-8fdc4a601de7"
      },
      "execution_count": 2,
      "outputs": [
        {
          "output_type": "stream",
          "name": "stdout",
          "text": [
            "Mounted at /content/drive\n"
          ]
        }
      ]
    },
    {
      "cell_type": "code",
      "source": [
        "!python bboxes_extractor.py --save-dir data/reference_images_part1_bboxes --dir-from /content/drive/MyDrive/data/reference_images_part1 --data-json /content/drive/MyDrive/data/reference_images_part1.json"
      ],
      "metadata": {
        "id": "sHh74BgSJpzh"
      },
      "execution_count": 3,
      "outputs": []
    },
    {
      "cell_type": "code",
      "source": [
        "!python bboxes_extractor.py --save-dir data/images_part1_valid_bboxes --dir-from /content/drive/MyDrive/data/images_part1_valid --data-json /content/drive/MyDrive/data/images_part1_valid.json"
      ],
      "metadata": {
        "id": "qbVPudkBKGmm"
      },
      "execution_count": 4,
      "outputs": []
    },
    {
      "cell_type": "markdown",
      "metadata": {
        "id": "fU5MMODLHtp9"
      },
      "source": [
        "# Dataset"
      ]
    },
    {
      "cell_type": "code",
      "execution_count": 3,
      "metadata": {
        "id": "sOkIxoaYHtqF"
      },
      "outputs": [],
      "source": [
        "from typing import Optional, Callable, Tuple, Any\n",
        "import numpy as np\n",
        "from PIL import Image\n",
        "import os\n",
        "\n",
        "\n",
        "class MagicDataset(torch.utils.data.Dataset):\n",
        "    def __init__(\n",
        "        self, \n",
        "        img_dir: str,\n",
        "        labels_file: Optional[str] = None,\n",
        "        transform: Optional[Callable] = None,\n",
        "        target_transform: Optional[Callable] = None\n",
        "    ) -> None:\n",
        "\n",
        "        self.img_dir = img_dir\n",
        "        self.labels_file = labels_file\n",
        "        self.data = pd.read_csv(labels_file)\n",
        "        self.img_names = self.data.loc[:, \"filename\"]\n",
        "        self.img_labels = self.data.loc[:, \"category_id\"]\n",
        "        self.class_names = self.img_labels.unique()\n",
        "\n",
        "        self.transform = transform\n",
        "        self.target_transform = target_transform\n",
        "\n",
        "    def __len__(self) -> int:\n",
        "        return len(self.img_names)\n",
        "\n",
        "    def __getitem__(self, index: int):\n",
        "        img_path = os.path.join(self.img_dir, self.img_names[index])\n",
        "        image = Image.open(img_path).convert('RGB')\n",
        "        label = self.img_labels[index]\n",
        "\n",
        "        if self.transform:\n",
        "            image = self.transform(image)\n",
        "            \n",
        "        if self.target_transform:\n",
        "            label = self.target_transform(label)\n",
        "\n",
        "        return image, label\n",
        "    "
      ]
    },
    {
      "cell_type": "code",
      "execution_count": 5,
      "metadata": {
        "id": "43hbBsmSHtqJ"
      },
      "outputs": [],
      "source": [
        "IMG_DIR = './data/reference_images_part1_bboxes/images'\n",
        "LABELS_FILE = './data/reference_images_part1_bboxes/bboxes_data.csv'\n",
        "IMG_DIR_VAL = './data/images_part1_valid_bboxes/images'\n",
        "LABELS_FILE_VAL = './data/images_part1_valid_bboxes/bboxes_data.csv'"
      ]
    },
    {
      "cell_type": "code",
      "execution_count": 6,
      "metadata": {
        "id": "fnv_FJZoHtqL"
      },
      "outputs": [],
      "source": [
        "transformations = transforms.Compose([\n",
        "    transforms.Resize((224, 224)),\n",
        "    transforms.RandomRotation(90),\n",
        "    transforms.ToTensor(),\n",
        "    transforms.Normalize([0.485, 0.456, 0.406], [0.229, 0.224, 0.225])\n",
        "])\n"
      ]
    },
    {
      "cell_type": "code",
      "execution_count": 7,
      "metadata": {
        "id": "FSZfIghgHtqN"
      },
      "outputs": [],
      "source": [
        "train_data = MagicDataset(img_dir=IMG_DIR, labels_file=LABELS_FILE, transform=transformations)\n",
        "val_data = MagicDataset(img_dir=IMG_DIR_VAL, labels_file=LABELS_FILE_VAL, transform=transformations)"
      ]
    },
    {
      "cell_type": "code",
      "source": [
        "BATCH_SIZE = 256\n",
        "train_loader = torch.utils.data.DataLoader(train_data, batch_size=BATCH_SIZE, shuffle=True)\n",
        "val_loader = torch.utils.data.DataLoader(val_data, batch_size=BATCH_SIZE, shuffle=False)\n",
        "\n",
        "# train_loader = torch.utils.data.DataLoader(train_data, batch_size=BATCH_SIZE, sampler=train_sampler)\n",
        "# val_loader = torch.utils.data.DataLoader(val_data, batch_size=BATCH_SIZE, sampler=val_sampler)"
      ],
      "metadata": {
        "id": "soRjNd0dztEO"
      },
      "execution_count": 8,
      "outputs": []
    },
    {
      "cell_type": "code",
      "source": [
        "trainx, trainy = next(iter(train_loader))\n",
        "trainx.shape, trainy.shape"
      ],
      "metadata": {
        "colab": {
          "base_uri": "https://localhost:8080/"
        },
        "id": "3fCgbuab1pDF",
        "outputId": "5d638869-11bc-451d-b1ae-4c4238da3e96"
      },
      "execution_count": 9,
      "outputs": [
        {
          "output_type": "execute_result",
          "data": {
            "text/plain": [
              "(torch.Size([144, 3, 224, 224]), torch.Size([144]))"
            ]
          },
          "metadata": {},
          "execution_count": 9
        }
      ]
    },
    {
      "cell_type": "code",
      "source": [
        "def extract_sample(n_way, n_support, n_query, datax, datay):\n",
        "    \"\"\"\n",
        "    Picks random sample of size n_support+n_querry, for n_way classes\n",
        "    Args:\n",
        "        n_way (int): number of classes in a classification task\n",
        "        n_support (int): number of labeled examples per class in the support set\n",
        "        n_query (int): number of labeled examples per class in the query set\n",
        "        datax (np.array): dataset of images\n",
        "        datay (np.array): dataset of labels\n",
        "    Returns:\n",
        "        (dict) of:\n",
        "        (torch.Tensor): sample of images. Size (n_way, n_support+n_query, (dim))\n",
        "        (int): n_way\n",
        "        (int): n_support\n",
        "        (int): n_query\n",
        "    \"\"\"\n",
        "    sample = torch.zeros((0, n_support+n_query, 3, trainx.shape[-2], trainx.shape[-1]))\n",
        "    K = np.random.choice(np.unique(datay), n_way, replace=False)\n",
        "    for cls in K:\n",
        "        datax_cls = datax[datay == cls]\n",
        "        perm = np.random.permutation(datax_cls)\n",
        "        sample_cls = perm[:(n_support+n_query)]\n",
        "        sample = torch.cat([sample, torch.as_tensor(sample_cls).unsqueeze(0)])\n",
        "    return({\n",
        "        'images': sample,\n",
        "        'n_way': n_way,\n",
        "        'n_support': n_support,\n",
        "        'n_query': n_query\n",
        "        })"
      ],
      "metadata": {
        "id": "kdSwR08iyL_j"
      },
      "execution_count": 10,
      "outputs": []
    },
    {
      "cell_type": "code",
      "source": [
        "sample_example = extract_sample(8, 2, 1, trainx, trainy)"
      ],
      "metadata": {
        "id": "yDXVxw4S41Qq"
      },
      "execution_count": 11,
      "outputs": []
    },
    {
      "cell_type": "code",
      "source": [
        "sample_example['images'].shape"
      ],
      "metadata": {
        "colab": {
          "base_uri": "https://localhost:8080/"
        },
        "id": "oCmkY9w_49Ao",
        "outputId": "fd7c69b7-7175-4547-bfb8-175c4c498e05"
      },
      "execution_count": 12,
      "outputs": [
        {
          "output_type": "execute_result",
          "data": {
            "text/plain": [
              "torch.Size([8, 3, 3, 224, 224])"
            ]
          },
          "metadata": {},
          "execution_count": 12
        }
      ]
    },
    {
      "cell_type": "code",
      "source": [
        "def display_sample(sample):\n",
        "  \"\"\"\n",
        "  Displays sample in a grid\n",
        "  Args:\n",
        "      sample (torch.Tensor): sample of images to display\n",
        "  \"\"\"\n",
        "  #need 4D tensor to create grid, currently 5D\n",
        "  sample_4D = sample.view(sample.shape[0]*sample.shape[1],*sample.shape[2:])\n",
        "  #make a grid\n",
        "  out = torchvision.utils.make_grid(sample_4D, nrow=sample.shape[1])\n",
        "  plt.figure(figsize = (16,7))\n",
        "  plt.imshow(out.permute(1, 2, 0))"
      ],
      "metadata": {
        "id": "k3O2mf_Qyfzi"
      },
      "execution_count": 51,
      "outputs": []
    },
    {
      "cell_type": "code",
      "source": [
        "display_sample(sample_example['images'])"
      ],
      "metadata": {
        "colab": {
          "base_uri": "https://localhost:8080/",
          "height": 450
        },
        "id": "dUdmW8jH5b10",
        "outputId": "9b520111-8eeb-4770-c21d-47f272e4aa1e"
      },
      "execution_count": 53,
      "outputs": [
        {
          "output_type": "stream",
          "name": "stderr",
          "text": [
            "Clipping input data to the valid range for imshow with RGB data ([0..1] for floats or [0..255] for integers).\n"
          ]
        },
        {
          "output_type": "display_data",
          "data": {
            "text/plain": [
              "<Figure size 1152x504 with 1 Axes>"
            ],
            "image/png": "[encoded data removed]"
          },
          "metadata": {
            "needs_background": "light"
          }
        }
      ]
    },
    {
      "cell_type": "markdown",
      "metadata": {
        "id": "4i80aPg_HtqV"
      },
      "source": [
        "# Model "
      ]
    },
    {
      "cell_type": "code",
      "source": [
        "model = models.resnet50(pretrained=True)\n",
        "\n",
        "for i, child in enumerate(model.children()):\n",
        "    if i < 7:\n",
        "        for param in child.parameters():\n",
        "            param.requires_grad = False\n",
        "\n",
        "model = torch.nn.Sequential(*(list(model.children())[:-1]), torch.nn.Flatten())\n",
        "model = model.to(device)"
      ],
      "metadata": {
        "id": "sT9zIK_q8IGh"
      },
      "execution_count": 53,
      "outputs": []
    },
    {
      "cell_type": "code",
      "source": [
        "class ProtoNet(nn.Module):\n",
        "  def __init__(self, encoder):\n",
        "    \"\"\"\n",
        "    Args:\n",
        "        encoder : CNN encoding the images in sample\n",
        "        n_way (int): number of classes in a classification task\n",
        "        n_support (int): number of labeled examples per class in the support set\n",
        "        n_query (int): number of labeled examples per class in the query set\n",
        "    \"\"\"\n",
        "    super(ProtoNet, self).__init__()\n",
        "    self.encoder = encoder\n",
        "\n",
        "  def set_forward_loss(self, sample):\n",
        "    \"\"\"\n",
        "    Computes loss, accuracy and output for classification task\n",
        "    Args:\n",
        "        sample (torch.Tensor): shape (n_way, n_support+n_query, (dim)) \n",
        "    Returns:\n",
        "        torch.Tensor: shape(2), loss, accuracy and y_hat\n",
        "    \"\"\"\n",
        "    sample_images = sample['images'].to(device)\n",
        "    n_way = sample['n_way']\n",
        "    n_support = sample['n_support']\n",
        "    n_query = sample['n_query']\n",
        "\n",
        "    x_support = sample_images[:, :n_support]\n",
        "    x_query = sample_images[:, n_support:]\n",
        "   \n",
        "    # target indices are 0 ... n_way-1\n",
        "    target_inds = torch.arange(0, n_way).view(n_way, 1, 1).expand(n_way, n_query, 1).long()\n",
        "    target_inds = target_inds.to(device)\n",
        "   \n",
        "    # encode images of the support and the query set\n",
        "    x = torch.cat([x_support.contiguous().view(n_way * n_support, *x_support.size()[2:]),\n",
        "                   x_query.contiguous().view(n_way * n_query, *x_query.size()[2:])], 0)\n",
        "   \n",
        "    z = self.encoder(x)\n",
        "    z_dim = z.size(-1) \n",
        "    z_proto = z[:n_way*n_support].view(n_way, n_support, z_dim).mean(1)\n",
        "    z_query = z[n_way*n_support:]\n",
        "\n",
        "    # compute distances\n",
        "    dists = euclidean_dist(z_query, z_proto)\n",
        "    \n",
        "    # compute probabilities\n",
        "    log_p_y = F.log_softmax(-dists, dim=1).view(n_way, n_query, -1)\n",
        "   \n",
        "    loss_val = -log_p_y.gather(2, target_inds).squeeze().view(-1).mean()\n",
        "    _, y_hat = log_p_y.max(2)\n",
        "    acc_val = torch.eq(y_hat, target_inds.squeeze()).float().mean()\n",
        "   \n",
        "    return loss_val, {\n",
        "        'loss': loss_val.item(),\n",
        "        'acc': acc_val.item(),\n",
        "        'y_hat': y_hat\n",
        "        }"
      ],
      "metadata": {
        "id": "NRkr3DUjytqA"
      },
      "execution_count": 54,
      "outputs": []
    },
    {
      "cell_type": "code",
      "source": [
        "def euclidean_dist(x, y):\n",
        "    \"\"\"\n",
        "    Computes euclidean distance btw x and y\n",
        "    Args:\n",
        "        x (torch.Tensor): shape (n, d). n usually n_way*n_query\n",
        "        y (torch.Tensor): shape (m, d). m usually n_way\n",
        "    Returns:\n",
        "        torch.Tensor: shape(n, m). For each query, the distances to each centroid\n",
        "    \"\"\"\n",
        "    n = x.size(0)\n",
        "    m = y.size(0)\n",
        "    d = x.size(1)\n",
        "    assert d == y.size(1)\n",
        "\n",
        "    x = x.unsqueeze(1).expand(n, m, d)\n",
        "    y = y.unsqueeze(0).expand(n, m, d)\n",
        "\n",
        "    return torch.pow(x - y, 2).sum(2)"
      ],
      "metadata": {
        "id": "HJYOl24uyvlN"
      },
      "execution_count": 55,
      "outputs": []
    },
    {
      "cell_type": "code",
      "source": [
        "from tqdm import tqdm_notebook\n",
        "from tqdm import tnrange\n",
        "\n",
        "def train(model, optimizer, train_x, train_y, n_way, n_support, n_query, max_epoch, epoch_size):\n",
        "  \"\"\"\n",
        "  Trains the protonet\n",
        "  Args:\n",
        "      model\n",
        "      optimizer\n",
        "      train_x (np.array): images of training set\n",
        "      train_y(np.array): labels of training set\n",
        "      n_way (int): number of classes in a classification task\n",
        "      n_support (int): number of labeled examples per class in the support set\n",
        "      n_query (int): number of labeled examples per class in the query set\n",
        "      max_epoch (int): max epochs to train on\n",
        "      epoch_size (int): episodes per epoch\n",
        "  \"\"\"\n",
        "  # divide the learning rate by 2 at each epoch, as suggested in paper\n",
        "  scheduler = optim.lr_scheduler.StepLR(optimizer, 1, gamma=0.5, last_epoch=-1)\n",
        "  epoch = 0 # epochs done so far\n",
        "  stop = False # status to know when to stop\n",
        "\n",
        "  while epoch < max_epoch and not stop:\n",
        "    running_loss = 0.0\n",
        "    running_acc = 0.0\n",
        "\n",
        "    for episode in tnrange(epoch_size, desc=\"Epoch {:d} train\".format(epoch+1)):\n",
        "      sample = extract_sample(n_way, n_support, n_query, train_x, train_y)\n",
        "      optimizer.zero_grad()\n",
        "      loss, output = model.set_forward_loss(sample)\n",
        "      running_loss += output['loss']\n",
        "      running_acc += output['acc']\n",
        "      loss.backward()\n",
        "      optimizer.step()\n",
        "    epoch_loss = running_loss / epoch_size\n",
        "    epoch_acc = running_acc / epoch_size\n",
        "    print('Epoch {:d} -- Loss: {:.4f} Acc: {:.4f}'.format(epoch+1,epoch_loss, epoch_acc))\n",
        "    epoch += 1\n",
        "    scheduler.step()"
      ],
      "metadata": {
        "id": "5MWdosP67f6I"
      },
      "execution_count": 56,
      "outputs": []
    },
    {
      "cell_type": "code",
      "source": [
        "%%time\n",
        "\n",
        "optimizer = optim.Adam(model.parameters(), lr = 1e-4)\n",
        "n_way = 8\n",
        "n_support = 2\n",
        "n_query = 1\n",
        "\n",
        "model = ProtoNet(model)\n",
        "\n",
        "train_x = trainx\n",
        "train_y = trainy\n",
        "\n",
        "max_epoch = 5\n",
        "epoch_size = 10\n",
        "\n",
        "train(model, optimizer, train_x, train_y, n_way, n_support, n_query, max_epoch, epoch_size)"
      ],
      "metadata": {
        "colab": {
          "base_uri": "https://localhost:8080/",
          "height": 87,
          "referenced_widgets": [
            "afee614f4b004cbe8c8c67654de65445",
            "77fc3a315d764d78a3e11b52e5539eda",
            "395e3323c517456e886f08a65596a27a",
            "26bff6728637412580d019a0ea491488",
            "a3abfcbe917543c796600f66a9da40ad",
            "2174a985f53040e5b73e16790e075929",
            "6b8b68a1c91c4739b5327aa34ae7deb9",
            "e2fa9455bcb74567ae36c9fdbf947e99",
            "ad84b77fe0a54668bbced2a24b6ac099",
            "7e545ab86b47490fa1592ba85b3d0588",
            "41c3d3090af147159d0abed95275dcc5"
          ]
        },
        "id": "MzUD9uG6-KDN",
        "outputId": "fe1afbe7-fe40-434e-a944-8f2cc8a15711"
      },
      "execution_count": null,
      "outputs": [
        {
          "output_type": "stream",
          "name": "stderr",
          "text": [
            "/usr/local/lib/python3.7/dist-packages/ipykernel_launcher.py:27: TqdmDeprecationWarning: Please use `tqdm.notebook.trange` instead of `tqdm.tnrange`\n"
          ]
        },
        {
          "output_type": "display_data",
          "data": {
            "text/plain": [
              "Epoch 1 train:   0%|          | 0/10 [00:00<?, ?it/s]"
            ],
            "application/vnd.jupyter.widget-view+json": {
              "version_major": 2,
              "version_minor": 0,
              "model_id": "afee614f4b004cbe8c8c67654de65445"
            }
          },
          "metadata": {}
        }
      ]
    }
  ],
  "metadata": {
    "interpreter": {
      "hash": "f76ed3cc9315e48c77804955e85c084a2eab6ce07353bbf90e3475a447fc2fe0"
    },
    "kernelspec": {
      "display_name": "Python 3.8.8",
      "language": "python",
      "name": "python3"
    },
    "language_info": {
      "codemirror_mode": {
        "name": "ipython",
        "version": 3
      },
      "file_extension": ".py",
      "mimetype": "text/x-python",
      "name": "python",
      "nbconvert_exporter": "python",
      "pygments_lexer": "ipython3",
      "version": "3.8.8"
    },
    "orig_nbformat": 4,
    "colab": {
      "name": "prototypical.ipynb",
      "provenance": [],
      "collapsed_sections": []
    },
    "widgets": {
      "application/vnd.jupyter.widget-state+json": {
        "afee614f4b004cbe8c8c67654de65445": {
          "model_module": "@jupyter-widgets/controls",
          "model_name": "HBoxModel",
          "model_module_version": "1.5.0",
          "state": {
            "_dom_classes": [],
            "_model_module": "@jupyter-widgets/controls",
            "_model_module_version": "1.5.0",
            "_model_name": "HBoxModel",
            "_view_count": null,
            "_view_module": "@jupyter-widgets/controls",
            "_view_module_version": "1.5.0",
            "_view_name": "HBoxView",
            "box_style": "",
            "children": [
              "IPY_MODEL_77fc3a315d764d78a3e11b52e5539eda",
              "IPY_MODEL_395e3323c517456e886f08a65596a27a",
              "IPY_MODEL_26bff6728637412580d019a0ea491488"
            ],
            "layout": "IPY_MODEL_a3abfcbe917543c796600f66a9da40ad"
          }
        },
        "77fc3a315d764d78a3e11b52e5539eda": {
          "model_module": "@jupyter-widgets/controls",
          "model_name": "HTMLModel",
          "model_module_version": "1.5.0",
          "state": {
            "_dom_classes": [],
            "_model_module": "@jupyter-widgets/controls",
            "_model_module_version": "1.5.0",
            "_model_name": "HTMLModel",
            "_view_count": null,
            "_view_module": "@jupyter-widgets/controls",
            "_view_module_version": "1.5.0",
            "_view_name": "HTMLView",
            "description": "",
            "description_tooltip": null,
            "layout": "IPY_MODEL_2174a985f53040e5b73e16790e075929",
            "placeholder": "​",
            "style": "IPY_MODEL_6b8b68a1c91c4739b5327aa34ae7deb9",
            "value": "Epoch 1 train:  50%"
          }
        },
        "395e3323c517456e886f08a65596a27a": {
          "model_module": "@jupyter-widgets/controls",
          "model_name": "FloatProgressModel",
          "model_module_version": "1.5.0",
          "state": {
            "_dom_classes": [],
            "_model_module": "@jupyter-widgets/controls",
            "_model_module_version": "1.5.0",
            "_model_name": "FloatProgressModel",
            "_view_count": null,
            "_view_module": "@jupyter-widgets/controls",
            "_view_module_version": "1.5.0",
            "_view_name": "ProgressView",
            "bar_style": "",
            "description": "",
            "description_tooltip": null,
            "layout": "IPY_MODEL_e2fa9455bcb74567ae36c9fdbf947e99",
            "max": 10,
            "min": 0,
            "orientation": "horizontal",
            "style": "IPY_MODEL_ad84b77fe0a54668bbced2a24b6ac099",
            "value": 5
          }
        },
        "26bff6728637412580d019a0ea491488": {
          "model_module": "@jupyter-widgets/controls",
          "model_name": "HTMLModel",
          "model_module_version": "1.5.0",
          "state": {
            "_dom_classes": [],
            "_model_module": "@jupyter-widgets/controls",
            "_model_module_version": "1.5.0",
            "_model_name": "HTMLModel",
            "_view_count": null,
            "_view_module": "@jupyter-widgets/controls",
            "_view_module_version": "1.5.0",
            "_view_name": "HTMLView",
            "description": "",
            "description_tooltip": null,
            "layout": "IPY_MODEL_7e545ab86b47490fa1592ba85b3d0588",
            "placeholder": "​",
            "style": "IPY_MODEL_41c3d3090af147159d0abed95275dcc5",
            "value": " 5/10 [00:36&lt;00:36,  7.35s/it]"
          }
        },
        "a3abfcbe917543c796600f66a9da40ad": {
          "model_module": "@jupyter-widgets/base",
          "model_name": "LayoutModel",
          "model_module_version": "1.2.0",
          "state": {
            "_model_module": "@jupyter-widgets/base",
            "_model_module_version": "1.2.0",
            "_model_name": "LayoutModel",
            "_view_count": null,
            "_view_module": "@jupyter-widgets/base",
            "_view_module_version": "1.2.0",
            "_view_name": "LayoutView",
            "align_content": null,
            "align_items": null,
            "align_self": null,
            "border": null,
            "bottom": null,
            "display": null,
            "flex": null,
            "flex_flow": null,
            "grid_area": null,
            "grid_auto_columns": null,
            "grid_auto_flow": null,
            "grid_auto_rows": null,
            "grid_column": null,
            "grid_gap": null,
            "grid_row": null,
            "grid_template_areas": null,
            "grid_template_columns": null,
            "grid_template_rows": null,
            "height": null,
            "justify_content": null,
            "justify_items": null,
            "left": null,
            "margin": null,
            "max_height": null,
            "max_width": null,
            "min_height": null,
            "min_width": null,
            "object_fit": null,
            "object_position": null,
            "order": null,
            "overflow": null,
            "overflow_x": null,
            "overflow_y": null,
            "padding": null,
            "right": null,
            "top": null,
            "visibility": null,
            "width": null
          }
        },
        "2174a985f53040e5b73e16790e075929": {
          "model_module": "@jupyter-widgets/base",
          "model_name": "LayoutModel",
          "model_module_version": "1.2.0",
          "state": {
            "_model_module": "@jupyter-widgets/base",
            "_model_module_version": "1.2.0",
            "_model_name": "LayoutModel",
            "_view_count": null,
            "_view_module": "@jupyter-widgets/base",
            "_view_module_version": "1.2.0",
            "_view_name": "LayoutView",
            "align_content": null,
            "align_items": null,
            "align_self": null,
            "border": null,
            "bottom": null,
            "display": null,
            "flex": null,
            "flex_flow": null,
            "grid_area": null,
            "grid_auto_columns": null,
            "grid_auto_flow": null,
            "grid_auto_rows": null,
            "grid_column": null,
            "grid_gap": null,
            "grid_row": null,
            "grid_template_areas": null,
            "grid_template_columns": null,
            "grid_template_rows": null,
            "height": null,
            "justify_content": null,
            "justify_items": null,
            "left": null,
            "margin": null,
            "max_height": null,
            "max_width": null,
            "min_height": null,
            "min_width": null,
            "object_fit": null,
            "object_position": null,
            "order": null,
            "overflow": null,
            "overflow_x": null,
            "overflow_y": null,
            "padding": null,
            "right": null,
            "top": null,
            "visibility": null,
            "width": null
          }
        },
        "6b8b68a1c91c4739b5327aa34ae7deb9": {
          "model_module": "@jupyter-widgets/controls",
          "model_name": "DescriptionStyleModel",
          "model_module_version": "1.5.0",
          "state": {
            "_model_module": "@jupyter-widgets/controls",
            "_model_module_version": "1.5.0",
            "_model_name": "DescriptionStyleModel",
            "_view_count": null,
            "_view_module": "@jupyter-widgets/base",
            "_view_module_version": "1.2.0",
            "_view_name": "StyleView",
            "description_width": ""
          }
        },
        "e2fa9455bcb74567ae36c9fdbf947e99": {
          "model_module": "@jupyter-widgets/base",
          "model_name": "LayoutModel",
          "model_module_version": "1.2.0",
          "state": {
            "_model_module": "@jupyter-widgets/base",
            "_model_module_version": "1.2.0",
            "_model_name": "LayoutModel",
            "_view_count": null,
            "_view_module": "@jupyter-widgets/base",
            "_view_module_version": "1.2.0",
            "_view_name": "LayoutView",
            "align_content": null,
            "align_items": null,
            "align_self": null,
            "border": null,
            "bottom": null,
            "display": null,
            "flex": null,
            "flex_flow": null,
            "grid_area": null,
            "grid_auto_columns": null,
            "grid_auto_flow": null,
            "grid_auto_rows": null,
            "grid_column": null,
            "grid_gap": null,
            "grid_row": null,
            "grid_template_areas": null,
            "grid_template_columns": null,
            "grid_template_rows": null,
            "height": null,
            "justify_content": null,
            "justify_items": null,
            "left": null,
            "margin": null,
            "max_height": null,
            "max_width": null,
            "min_height": null,
            "min_width": null,
            "object_fit": null,
            "object_position": null,
            "order": null,
            "overflow": null,
            "overflow_x": null,
            "overflow_y": null,
            "padding": null,
            "right": null,
            "top": null,
            "visibility": null,
            "width": null
          }
        },
        "ad84b77fe0a54668bbced2a24b6ac099": {
          "model_module": "@jupyter-widgets/controls",
          "model_name": "ProgressStyleModel",
          "model_module_version": "1.5.0",
          "state": {
            "_model_module": "@jupyter-widgets/controls",
            "_model_module_version": "1.5.0",
            "_model_name": "ProgressStyleModel",
            "_view_count": null,
            "_view_module": "@jupyter-widgets/base",
            "_view_module_version": "1.2.0",
            "_view_name": "StyleView",
            "bar_color": null,
            "description_width": ""
          }
        },
        "7e545ab86b47490fa1592ba85b3d0588": {
          "model_module": "@jupyter-widgets/base",
          "model_name": "LayoutModel",
          "model_module_version": "1.2.0",
          "state": {
            "_model_module": "@jupyter-widgets/base",
            "_model_module_version": "1.2.0",
            "_model_name": "LayoutModel",
            "_view_count": null,
            "_view_module": "@jupyter-widgets/base",
            "_view_module_version": "1.2.0",
            "_view_name": "LayoutView",
            "align_content": null,
            "align_items": null,
            "align_self": null,
            "border": null,
            "bottom": null,
            "display": null,
            "flex": null,
            "flex_flow": null,
            "grid_area": null,
            "grid_auto_columns": null,
            "grid_auto_flow": null,
            "grid_auto_rows": null,
            "grid_column": null,
            "grid_gap": null,
            "grid_row": null,
            "grid_template_areas": null,
            "grid_template_columns": null,
            "grid_template_rows": null,
            "height": null,
            "justify_content": null,
            "justify_items": null,
            "left": null,
            "margin": null,
            "max_height": null,
            "max_width": null,
            "min_height": null,
            "min_width": null,
            "object_fit": null,
            "object_position": null,
            "order": null,
            "overflow": null,
            "overflow_x": null,
            "overflow_y": null,
            "padding": null,
            "right": null,
            "top": null,
            "visibility": null,
            "width": null
          }
        },
        "41c3d3090af147159d0abed95275dcc5": {
          "model_module": "@jupyter-widgets/controls",
          "model_name": "DescriptionStyleModel",
          "model_module_version": "1.5.0",
          "state": {
            "_model_module": "@jupyter-widgets/controls",
            "_model_module_version": "1.5.0",
            "_model_name": "DescriptionStyleModel",
            "_view_count": null,
            "_view_module": "@jupyter-widgets/base",
            "_view_module_version": "1.2.0",
            "_view_name": "StyleView",
            "description_width": ""
          }
        }
      }
    }
  },
  "nbformat": 4,
  "nbformat_minor": 0
}